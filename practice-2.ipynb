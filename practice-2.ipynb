{
 "cells": [
  {
   "cell_type": "code",
   "execution_count": 1,
   "id": "ee4b15c7",
   "metadata": {},
   "outputs": [],
   "source": [
    "import numpy as np #giving numpy an alias"
   ]
  },
  {
   "cell_type": "code",
   "execution_count": 10,
   "id": "b029c6fc",
   "metadata": {},
   "outputs": [
    {
     "name": "stdout",
     "output_type": "stream",
     "text": [
      "<class 'int'>\n",
      "4\n",
      "2\n",
      "6\n",
      "2.0\n",
      "4.0\n",
      "0.25\n",
      "-----------------------------\n"
     ]
    }
   ],
   "source": [
    "x = 3\n",
    "print(type(x))\n",
    "\n",
    "x += 1 #add to x\n",
    "print(x)\n",
    "\n",
    "x -= 2 #subtract from x\n",
    "print(x)\n",
    "\n",
    "x *= 3 #multiply x\n",
    "print(x)\n",
    "\n",
    "x /= 3 #divide x\n",
    "print(x)\n",
    "\n",
    "x **= 2 #exponential of x\n",
    "print(x)\n",
    "\n",
    "x **= -1 #inverse of x\n",
    "print(x)\n",
    "\n",
    "print(\"-----------------------------\")"
   ]
  },
  {
   "cell_type": "markdown",
   "id": "dd46a9b6",
   "metadata": {},
   "source": [
    "A numpy array is a grid of values, all of the same type, and is indexed by a tuple of non-negative values. The number of dimensions in the rank of the array; the shape of an array is a tuple of integers giving the size of the array along each dimension. We can initialize numpy arrays from nested python lists and access elements using square brackets."
   ]
  },
  {
   "cell_type": "markdown",
   "id": "181450d7",
   "metadata": {},
   "source": [
    "Create a rank 1 array"
   ]
  },
  {
   "cell_type": "code",
   "execution_count": 48,
   "id": "8aafd9b5",
   "metadata": {},
   "outputs": [
    {
     "name": "stdout",
     "output_type": "stream",
     "text": [
      "[1 2 3]\n",
      "a is of type; <class 'numpy.ndarray'>\n",
      "(3,)\n",
      "new a is; [5 2 3]\n",
      "5 3\n",
      "---------------------------------1\n",
      "[[1 2 3]\n",
      " [4 5 6]]\n",
      "(2, 3)\n",
      "---------------------------------2\n"
     ]
    }
   ],
   "source": [
    "a = np.array([1,2,3])\n",
    "print(a)\n",
    "print(\"a is of type; \" + str(type(a)))\n",
    "print(a.shape)\n",
    "\n",
    "'''y = np.array([[1],[2],[3]])\n",
    "print(y)\n",
    "print(y.shape) '''\n",
    "\n",
    "a[0] = 5\n",
    "print(\"new a is; \" + str(a))\n",
    "\n",
    "print(a[0],a[2])\n",
    "print(\"---------------------------------1\")\n",
    "\n",
    "b = np.array([[1,2,3],[4,5,6]])\n",
    "print(b)\n",
    "print(b.shape)\n",
    "print(\"---------------------------------2\")"
   ]
  },
  {
   "cell_type": "markdown",
   "id": "faa176f8",
   "metadata": {},
   "source": [
    "Numpy also provides functions to create arrays."
   ]
  },
  {
   "cell_type": "code",
   "execution_count": 47,
   "id": "c527cbf1",
   "metadata": {},
   "outputs": [
    {
     "name": "stdout",
     "output_type": "stream",
     "text": [
      "[[0. 0.]\n",
      " [0. 0.]]\n",
      "-----------------------------1\n",
      "[[1. 1. 1.]\n",
      " [1. 1. 1.]\n",
      " [1. 1. 1.]]\n",
      "-----------------------------2\n",
      "[[7 7]\n",
      " [7 7]]\n",
      "-----------------------------3\n",
      "[[1. 0.]\n",
      " [0. 1.]]\n",
      "-----------------------------4\n",
      "[[0.05486268 0.53956624]\n",
      " [0.43653256 0.39534671]]\n",
      "-----------------------------5\n"
     ]
    }
   ],
   "source": [
    "c = np.zeros((2,2))   #to create a 2 by 2 matrix; but of all zeros\n",
    "d = np.ones((3,3))    #to create a 3 by 3 matrix; but of all ones\n",
    "print(c)\n",
    "print(\"-----------------------------1\")\n",
    "\n",
    "print(d)\n",
    "print(\"-----------------------------2\")\n",
    "\n",
    "e = np.full((2,2),7) #to create a 2 by 2 matrix; but of all 7s\n",
    "print(e)\n",
    "print(\"-----------------------------3\")\n",
    "\n",
    "f = np.eye(2)       #to create an identity matrix\n",
    "print(f)\n",
    "print(\"-----------------------------4\")\n",
    "\n",
    "g = np.random.random((2,2)) #to create an array of random variables\n",
    "print(g)\n",
    "print(\"-----------------------------5\")"
   ]
  },
  {
   "cell_type": "markdown",
   "id": "cfdd8f41",
   "metadata": {},
   "source": [
    "Array Math\n",
    "Basic mathematical functions operate elementwise and are available both as operator overalls or functions."
   ]
  },
  {
   "cell_type": "code",
   "execution_count": 63,
   "id": "abe21e43",
   "metadata": {
    "scrolled": true
   },
   "outputs": [
    {
     "name": "stdout",
     "output_type": "stream",
     "text": [
      "[[ 6  8]\n",
      " [10 12]]\n",
      "-----------------------------1\n",
      "[[ 6  8]\n",
      " [10 12]]\n",
      "-----------------------------2\n",
      "[[-4 -4]\n",
      " [-4 -4]]\n",
      "-----------------------------3\n",
      "[[ 5 12]\n",
      " [21 32]]\n",
      "-----------------------------4\n",
      "[[0.2        0.33333333]\n",
      " [0.42857143 0.5       ]]\n",
      "-----------------------------5\n",
      "[[ 1  4]\n",
      " [ 9 16]]\n",
      "-----------------------------6\n"
     ]
    }
   ],
   "source": [
    "x = np.array([[1,2],[3,4]])\n",
    "y = np.array([[5,6],[7,8]])\n",
    "\n",
    "#print x + y\n",
    "print(x + y)\n",
    "print(\"-----------------------------1\")\n",
    "\n",
    "#print np.add(x,y)\n",
    "print(np.add(x,y))\n",
    "print(\"-----------------------------2\")\n",
    "\n",
    "print(x - y)\n",
    "print(\"-----------------------------3\")\n",
    "\n",
    "print(x * y)\n",
    "print(\"-----------------------------4\")\n",
    "\n",
    "print(x / y)\n",
    "print(\"-----------------------------5\")\n",
    "\n",
    "print(x ** 2)\n",
    "print(\"-----------------------------6\")"
   ]
  },
  {
   "cell_type": "markdown",
   "id": "5808d320",
   "metadata": {},
   "source": [
    "Dot product\n",
    "\n",
    "Multiplication in jupyter is not done using *, but using dot product"
   ]
  },
  {
   "cell_type": "code",
   "execution_count": 72,
   "id": "a4f3344c",
   "metadata": {},
   "outputs": [
    {
     "name": "stdout",
     "output_type": "stream",
     "text": [
      "219\n",
      "219\n",
      "219\n",
      "---------------------------------\n",
      "[29 67]\n",
      "[35 81]\n",
      "[39 58]\n",
      "[115 134]\n",
      "[47 70]\n",
      "[139 162]\n",
      "[105 143]\n",
      "[127 173]\n",
      "---------------------------------\n",
      "[[19 22]\n",
      " [43 50]]\n",
      "---------------------------------\n"
     ]
    }
   ],
   "source": [
    "x = np.array([[1,2],[3,4]])\n",
    "y = np.array([[5,6],[7,8]])\n",
    "v = np.array([9,10])\n",
    "w = np.array([11,12])\n",
    "\n",
    "#vector-vector \n",
    "    #vector inner product\n",
    "print(v.dot(w))\n",
    "print(w.dot(v))\n",
    "print(np.dot(v,w))\n",
    "print(\"---------------------------------\")\n",
    "\n",
    "#matrix-vector\n",
    "print(np.dot(x,v))\n",
    "print(np.dot(x,w))\n",
    "print(np.dot(v,x))\n",
    "print(np.dot(v,y))\n",
    "print(np.dot(w,x))\n",
    "print(np.dot(w,y))\n",
    "print(np.dot(y,v))\n",
    "print(np.dot(y,w))\n",
    "print(\"---------------------------------\")\n",
    "\n",
    "#matrix-matrix\n",
    "print(np.dot(x,y))\n",
    "print(\"---------------------------------\")"
   ]
  },
  {
   "cell_type": "markdown",
   "id": "05b73ea3",
   "metadata": {},
   "source": [
    "We sometimes need to reshape a matrix by transposing it."
   ]
  },
  {
   "cell_type": "code",
   "execution_count": 74,
   "id": "8ad5ad70",
   "metadata": {},
   "outputs": [
    {
     "data": {
      "text/plain": [
       "array([[1, 3],\n",
       "       [2, 4]])"
      ]
     },
     "execution_count": 74,
     "metadata": {},
     "output_type": "execute_result"
    }
   ],
   "source": [
    "x = np.array([[1,2],[3,4]])\n",
    "z = np.array([1,2,3])\n",
    "\n",
    "Trans = x.T\n",
    "Trans"
   ]
  },
  {
   "cell_type": "markdown",
   "id": "1f62dffc",
   "metadata": {},
   "source": [
    "Task; \n",
    "1) Broadcasting a matrix; 3 by 3\n",
    "\n",
    "2) Reshaping matrices "
   ]
  },
  {
   "cell_type": "code",
   "execution_count": null,
   "id": "59841648",
   "metadata": {},
   "outputs": [],
   "source": []
  }
 ],
 "metadata": {
  "kernelspec": {
   "display_name": "Python 3 (ipykernel)",
   "language": "python",
   "name": "python3"
  },
  "language_info": {
   "codemirror_mode": {
    "name": "ipython",
    "version": 3
   },
   "file_extension": ".py",
   "mimetype": "text/x-python",
   "name": "python",
   "nbconvert_exporter": "python",
   "pygments_lexer": "ipython3",
   "version": "3.10.5"
  }
 },
 "nbformat": 4,
 "nbformat_minor": 5
}
